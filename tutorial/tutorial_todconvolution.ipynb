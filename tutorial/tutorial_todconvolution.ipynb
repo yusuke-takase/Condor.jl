{
 "cells": [
  {
   "cell_type": "code",
   "execution_count": 17,
   "id": "222c9735-78ba-4739-9fc0-826cc9529576",
   "metadata": {},
   "outputs": [],
   "source": [
    "using Falcons\n",
    "using Condor\n",
    "using Healpix"
   ]
  },
  {
   "cell_type": "code",
   "execution_count": 18,
   "id": "0732bc7f-b57d-45a0-8c9f-36ac9d75dc25",
   "metadata": {},
   "outputs": [
    {
     "data": {
      "text/plain": [
       "1-element Vector{Int64}:\n",
       " 0"
      ]
     },
     "execution_count": 18,
     "metadata": {},
     "output_type": "execute_result"
    }
   ],
   "source": [
    "ss = gen_ScanningStrategy()\n",
    "Hz=1\n",
    "\n",
    "day = 60 * 60 * 24\n",
    "year = day * 365\n",
    "\n",
    "ss.nside = 128\n",
    "ss.duration = 30day #[sec]\n",
    "ss.sampling_rate = Hz #[Hz]\n",
    "ss.alpha = 45 #[degree]\n",
    "ss.beta = 50 #[degree]\n",
    "ss.prec_rpm = period2rpm(192.348)\n",
    "ss.spin_rpm = 0.05 #[rpm]\n",
    "ss.hwp_rpm = 46.0 #[rpm]\n",
    "ss.start_point = \"pole\" #You can choose \"pole\" or \"equator\"\n",
    "ss.coord=\"G\"  # \n",
    "ss.FP_theta = [0] #[target_det.theta[1]]\n",
    "ss.FP_phi = [0] #[target_det.phi[1]] .+ 30"
   ]
  },
  {
   "cell_type": "code",
   "execution_count": 19,
   "id": "2b111745-bcd6-4ebe-a0a0-4be40f6651d3",
   "metadata": {},
   "outputs": [],
   "source": [
    "theta_tod, phi_tod, psi_tod, alpha_tod, pix_tod = get_pointings_theta_phi_psi_alpha_pix_tod(ss, 0, 100);"
   ]
  },
  {
   "cell_type": "code",
   "execution_count": 28,
   "id": "48f3e584-f9d6-473d-ab6f-dcd5f3574110",
   "metadata": {},
   "outputs": [
    {
     "data": {
      "text/plain": [
       "2-element Vector{Int64}:\n",
       "  0\n",
       " 10"
      ]
     },
     "execution_count": 28,
     "metadata": {},
     "output_type": "execute_result"
    }
   ],
   "source": [
    "l_range = [0,10]"
   ]
  },
  {
   "cell_type": "code",
   "execution_count": 29,
   "id": "e1a2ca0f-e4e0-4368-9fde-987ae61c09a6",
   "metadata": {},
   "outputs": [
    {
     "data": {
      "text/plain": [
       "3×73920 Matrix{ComplexF64}:\n",
       " 0.0+0.0im  0.0+0.0im  0.0+0.0im  …  0.0+0.0im  0.0+0.0im  0.0+0.0im\n",
       " 0.0+0.0im  0.0+0.0im  0.0+0.0im     0.0+0.0im  0.0+0.0im  0.0+0.0im\n",
       " 0.0+0.0im  0.0+0.0im  0.0+0.0im     0.0+0.0im  0.0+0.0im  0.0+0.0im"
      ]
     },
     "execution_count": 29,
     "metadata": {},
     "output_type": "execute_result"
    }
   ],
   "source": [
    "lmax = 3ss.nside-1 \n",
    "npix = nside2npix(ss.nside)\n",
    "alm = zeros(ComplexF64,3,numberOfAlms(lmax,lmax))\n",
    "blm = zeros(ComplexF64,3,numberOfAlms(lmax,lmax))"
   ]
  },
  {
   "cell_type": "code",
   "execution_count": 30,
   "id": "61224787-a6b8-4b4f-b2de-bdae4f15a85d",
   "metadata": {},
   "outputs": [
    {
     "name": "stdout",
     "output_type": "stream",
     "text": [
      "  0.054736 seconds (30.11 k allocations: 31.743 MiB, 74.13% gc time)\n"
     ]
    }
   ],
   "source": [
    "tod = @time tod_convolution_idalhwp(alm, blm, lmax, npix, l_range, theta_tod[:,1], phi_tod[:,1], psi_tod[:,1],alpha_tod[:,1]);"
   ]
  },
  {
   "cell_type": "code",
   "execution_count": null,
   "id": "29001186-2792-4211-869a-073dea2b9e57",
   "metadata": {},
   "outputs": [],
   "source": []
  },
  {
   "cell_type": "code",
   "execution_count": null,
   "id": "31e5babd-d30a-48d0-9005-ea80dd536331",
   "metadata": {},
   "outputs": [],
   "source": []
  }
 ],
 "metadata": {
  "kernelspec": {
   "display_name": "Julia 1.7.2",
   "language": "julia",
   "name": "julia-1.7"
  },
  "language_info": {
   "file_extension": ".jl",
   "mimetype": "application/julia",
   "name": "julia",
   "version": "1.7.2"
  }
 },
 "nbformat": 4,
 "nbformat_minor": 5
}
