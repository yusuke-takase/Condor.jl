{
 "cells": [
  {
   "cell_type": "code",
   "execution_count": 1,
   "id": "222c9735-78ba-4739-9fc0-826cc9529576",
   "metadata": {},
   "outputs": [
    {
     "name": "stderr",
     "output_type": "stream",
     "text": [
      "┌ Info: Precompiling Condor [ce3e846d-a250-429b-81e6-e6cf6b410658]\n",
      "└ @ Base loading.jl:1423\n",
      "\u001b[33m\u001b[1m┌ \u001b[22m\u001b[39m\u001b[33m\u001b[1mWarning: \u001b[22m\u001b[39mPackage Condor does not have Falcons in its dependencies:\n",
      "\u001b[33m\u001b[1m│ \u001b[22m\u001b[39m- If you have Condor checked out for development and have\n",
      "\u001b[33m\u001b[1m│ \u001b[22m\u001b[39m  added Falcons as a dependency but haven't updated your primary\n",
      "\u001b[33m\u001b[1m│ \u001b[22m\u001b[39m  environment's manifest file, try `Pkg.resolve()`.\n",
      "\u001b[33m\u001b[1m│ \u001b[22m\u001b[39m- Otherwise you may need to report an issue with Condor\n",
      "\u001b[33m\u001b[1m└ \u001b[22m\u001b[39mLoading Falcons into Condor from project dependency, future warnings for Condor are suppressed.\n"
     ]
    }
   ],
   "source": [
    "using Falcons\n",
    "using Condor\n",
    "using Healpix\n",
    "using Plots"
   ]
  },
  {
   "cell_type": "code",
   "execution_count": 2,
   "id": "0732bc7f-b57d-45a0-8c9f-36ac9d75dc25",
   "metadata": {},
   "outputs": [
    {
     "data": {
      "text/plain": [
       "1-element Vector{Int64}:\n",
       " 0"
      ]
     },
     "execution_count": 2,
     "metadata": {},
     "output_type": "execute_result"
    }
   ],
   "source": [
    "ss = gen_ScanningStrategy()\n",
    "\n",
    "day = 60 * 60 * 24\n",
    "year = day * 365\n",
    "\n",
    "ss.nside = 128\n",
    "ss.sampling_rate = 1 #[Hz]\n",
    "ss.alpha = 45 #[degree]\n",
    "ss.beta = 50 #[degree]\n",
    "ss.prec_rpm = period2rpm(192.348)\n",
    "ss.spin_rpm = 0.05 #[rpm]\n",
    "ss.hwp_rpm = 46.0 #[rpm]\n",
    "ss.start_point = \"pole\" #You can choose \"pole\" or \"equator\"\n",
    "ss.coord=\"G\"  # \n",
    "ss.FP_theta = [0] #[target_det.theta[1]]\n",
    "ss.FP_phi = [0] #[target_det.phi[1]] .+ 30"
   ]
  },
  {
   "cell_type": "code",
   "execution_count": 3,
   "id": "2b111745-bcd6-4ebe-a0a0-4be40f6651d3",
   "metadata": {},
   "outputs": [],
   "source": [
    "theta_tod, phi_tod, psi_tod, alpha_tod, pix_tod = get_pointings_theta_phi_psi_alpha_pix_tod(ss, 0, 200);"
   ]
  },
  {
   "cell_type": "code",
   "execution_count": 9,
   "id": "e1a2ca0f-e4e0-4368-9fde-987ae61c09a6",
   "metadata": {},
   "outputs": [
    {
     "ename": "LoadError",
     "evalue": "UndefVarError: nside not defined",
     "output_type": "error",
     "traceback": [
      "UndefVarError: nside not defined",
      "",
      "Stacktrace:",
      " [1] gen_ConvolutionParams()",
      "   @ Condor ~/.julia/packages/Condor/u0U5K/src/function/structure_define.jl:16",
      " [2] top-level scope",
      "   @ In[9]:1",
      " [3] eval",
      "   @ ./boot.jl:373 [inlined]",
      " [4] include_string(mapexpr::typeof(REPL.softscope), mod::Module, code::String, filename::String)",
      "   @ Base ./loading.jl:1196"
     ]
    }
   ],
   "source": [
    "cp = gen_ConvolutionParams()\n",
    "cp.nside = \n",
    "cp.npix = nside2npix(ss.nside)\n",
    "cp.lmax = 3*ss.nside-1 \n",
    "cp.alm = rand(ComplexF64, 3, numberOfAlms(cp.lmax,cp.lmax))\n",
    "cp.blm = rand(ComplexF64, 3, numberOfAlms(cp.lmax,cp.lmax))\n",
    "cp.l_range = [0,100] "
   ]
  },
  {
   "cell_type": "code",
   "execution_count": 5,
   "id": "61224787-a6b8-4b4f-b2de-bdae4f15a85d",
   "metadata": {},
   "outputs": [
    {
     "ename": "LoadError",
     "evalue": "type #cp has no field alm",
     "output_type": "error",
     "traceback": [
      "type #cp has no field alm",
      "",
      "Stacktrace:",
      " [1] getproperty",
      "   @ ./Base.jl:42 [inlined]",
      " [2] top-level scope",
      "   @ ./timing.jl:220 [inlined]",
      " [3] top-level scope",
      "   @ ./In[5]:0",
      " [4] eval",
      "   @ ./boot.jl:373 [inlined]",
      " [5] include_string(mapexpr::typeof(REPL.softscope), mod::Module, code::String, filename::String)",
      "   @ Base ./loading.jl:1196"
     ]
    }
   ],
   "source": [
    "tod = @time tod_convolution_idalhwp(cp.alm, cp.blm, cp.lmax, cp.npix, cp.l_range, theta_tod[:,1], phi_tod[:,1], psi_tod[:,1],alpha_tod[:,1]);"
   ]
  },
  {
   "cell_type": "code",
   "execution_count": 6,
   "id": "29001186-2792-4211-869a-073dea2b9e57",
   "metadata": {},
   "outputs": [
    {
     "ename": "LoadError",
     "evalue": "UndefVarError: tod not defined",
     "output_type": "error",
     "traceback": [
      "UndefVarError: tod not defined",
      "",
      "Stacktrace:",
      " [1] top-level scope",
      "   @ In[6]:1",
      " [2] eval",
      "   @ ./boot.jl:373 [inlined]",
      " [3] include_string(mapexpr::typeof(REPL.softscope), mod::Module, code::String, filename::String)",
      "   @ Base ./loading.jl:1196"
     ]
    }
   ],
   "source": [
    "plot(tod, label = \"tod\", xlabel=\"sample number\", ylabel=\"signal\")"
   ]
  },
  {
   "cell_type": "code",
   "execution_count": 7,
   "id": "1aed745a-b1c9-4dbb-af64-cd968bb384fd",
   "metadata": {},
   "outputs": [
    {
     "ename": "LoadError",
     "evalue": "UndefVarError: nside not defined",
     "output_type": "error",
     "traceback": [
      "UndefVarError: nside not defined",
      "",
      "Stacktrace:",
      " [1] gen_ConvolutionParams()",
      "   @ Condor ~/.julia/packages/Condor/u0U5K/src/function/structure_define.jl:16",
      " [2] top-level scope",
      "   @ In[7]:1",
      " [3] eval",
      "   @ ./boot.jl:373 [inlined]",
      " [4] include_string(mapexpr::typeof(REPL.softscope), mod::Module, code::String, filename::String)",
      "   @ Base ./loading.jl:1196"
     ]
    }
   ],
   "source": [
    "cp = gen_ConvolutionParams()"
   ]
  },
  {
   "cell_type": "code",
   "execution_count": null,
   "id": "8152e1cd-865c-4d96-a431-ac3f1d46997e",
   "metadata": {},
   "outputs": [],
   "source": []
  }
 ],
 "metadata": {
  "kernelspec": {
   "display_name": "Julia 1.7.2",
   "language": "julia",
   "name": "julia-1.7"
  },
  "language_info": {
   "file_extension": ".jl",
   "mimetype": "application/julia",
   "name": "julia",
   "version": "1.7.2"
  }
 },
 "nbformat": 4,
 "nbformat_minor": 5
}
