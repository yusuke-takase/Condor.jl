{
 "cells": [
  {
   "cell_type": "code",
   "execution_count": 1,
   "id": "c09baacd-c9a8-47bb-b111-7c891376a251",
   "metadata": {},
   "outputs": [
    {
     "name": "stderr",
     "output_type": "stream",
     "text": [
      "┌ Info: Precompiling Condor [ce3e846d-a250-429b-81e6-e6cf6b410658]\n",
      "└ @ Base loading.jl:1423\n",
      "\u001b[33m\u001b[1m┌ \u001b[22m\u001b[39m\u001b[33m\u001b[1mWarning: \u001b[22m\u001b[39mPackage Condor does not have Falcons in its dependencies:\n",
      "\u001b[33m\u001b[1m│ \u001b[22m\u001b[39m- If you have Condor checked out for development and have\n",
      "\u001b[33m\u001b[1m│ \u001b[22m\u001b[39m  added Falcons as a dependency but haven't updated your primary\n",
      "\u001b[33m\u001b[1m│ \u001b[22m\u001b[39m  environment's manifest file, try `Pkg.resolve()`.\n",
      "\u001b[33m\u001b[1m│ \u001b[22m\u001b[39m- Otherwise you may need to report an issue with Condor\n",
      "\u001b[33m\u001b[1m└ \u001b[22m\u001b[39mLoading Falcons into Condor from project dependency, future warnings for Condor are suppressed.\n",
      "\n",
      "WARNING: version mismatch between CFITSIO header (v40100) and linked library (v40000).\n",
      "\n",
      "\n",
      "WARNING: version mismatch between CFITSIO header (v40100) and linked library (v40000).\n",
      "\n",
      "\n",
      "WARNING: version mismatch between CFITSIO header (v40100) and linked library (v40000).\n",
      "\n"
     ]
    },
    {
     "data": {
      "text/plain": [
       "PyObject <module 'healpy' from '/Users/naganoyuukana/.julia/conda/3/lib/python3.9/site-packages/healpy/__init__.py'>"
      ]
     },
     "execution_count": 1,
     "metadata": {},
     "output_type": "execute_result"
    }
   ],
   "source": [
    "using Condor\n",
    "using Healpix\n",
    "using PyCall\n",
    "using PyPlot\n",
    "using HDF5\n",
    "hp = pyimport(\"healpy\")"
   ]
  },
  {
   "cell_type": "markdown",
   "id": "4bd465dd-6d49-4d42-908f-397d19176482",
   "metadata": {},
   "source": [
    "## Part to prepare an Input map.\n",
    "The beam will be replaced by a calculation from the window function."
   ]
  },
  {
   "cell_type": "code",
   "execution_count": 2,
   "id": "8639f4e0-c5e9-409f-a152-ac834bec8651",
   "metadata": {},
   "outputs": [
    {
     "data": {
      "text/plain": [
       "3×4720128 Matrix{ComplexF64}:\n",
       " 0.281965+0.0im  0.487708+0.0im  …  2.87074e-24+1.4863e-24im\n",
       "      0.0+0.0im       0.0+0.0im     2.78163e-24-2.555e-24im\n",
       "      0.0+0.0im       0.0+0.0im     3.82999e-25-8.49213e-25im"
      ]
     },
     "execution_count": 2,
     "metadata": {},
     "output_type": "execute_result"
    }
   ],
   "source": [
    "nside = 1024\n",
    "npix = nside2npix(nside)\n",
    "res = Resolution(nside)\n",
    "gauss_beam = gauss_3d_xyz(npix, deg2rad(5), 0,0,1,res)\n",
    "gauss_beam_TQU = make_beam_TQU(gauss_beam, npix, res)\n",
    "gauss_blm = hp.map2alm(gauss_beam_TQU)"
   ]
  },
  {
   "cell_type": "code",
   "execution_count": 3,
   "id": "d034c8d2-79b0-46a3-b575-e29dc6f668d3",
   "metadata": {},
   "outputs": [],
   "source": [
    "py\"\"\"def truncate_alm(alms, lmax = -1, mmax = -1, mmax_in=-1):\n",
    "    import healpy as hp\n",
    "    import numpy as np\n",
    "    l2max = hp.Alm.getlmax(alms.shape[-1], mmax=mmax_in)\n",
    "    if lmax != -1 and lmax > l2max:\n",
    "        raise ValueError(\"Too big lmax in parameter\")\n",
    "    elif lmax == -1:\n",
    "        lmax = l2max\n",
    "\n",
    "    if mmax_in == -1:\n",
    "        mmax_in = l2max\n",
    "\n",
    "    if mmax == -1:\n",
    "        mmax = lmax\n",
    "    if mmax > mmax_in:\n",
    "        mmax = mmax_in\n",
    "\n",
    "    # if out_dtype is None:\n",
    "    #     out_dtype = alms[0].real.dtype\n",
    "\n",
    "    l, m = hp.Alm.getlm(lmax)\n",
    "    idx = np.where((l <= lmax) * (m <= mmax))\n",
    "    l = l[idx]\n",
    "    m = m[idx]\n",
    "\n",
    "    idx_in_original = hp.Alm.getidx(l2max, l=l, m=m)\n",
    "    \n",
    "    return alms[..., idx_in_original]\n",
    "\"\"\""
   ]
  },
  {
   "cell_type": "code",
   "execution_count": 4,
   "id": "ce268c77-bdc8-478b-a879-8567ac48233c",
   "metadata": {},
   "outputs": [
    {
     "data": {
      "text/plain": [
       "3×4656 Matrix{ComplexF64}:\n",
       " 0.281965+0.0im  0.487708+0.0im  …  8.08381e-25-5.26238e-25im\n",
       "      0.0+0.0im       0.0+0.0im      1.6174e-25+1.34835e-24im\n",
       "      0.0+0.0im       0.0+0.0im     -6.3899e-25-1.05197e-25im"
      ]
     },
     "execution_count": 4,
     "metadata": {},
     "output_type": "execute_result"
    }
   ],
   "source": [
    "nside = 32\n",
    "npix = nside2npix(nside)\n",
    "res = Resolution(nside)\n",
    "lmax = 3nside-1\n",
    "mmax=lmax\n",
    "gauss_blm=py\"truncate_alm\"(gauss_blm, lmax = lmax, mmax = mmax)"
   ]
  },
  {
   "cell_type": "code",
   "execution_count": 5,
   "id": "d0434cf8-b819-4063-a654-9769b2667e80",
   "metadata": {},
   "outputs": [],
   "source": [
    "input_pointsource = zeros(3,npix)\n",
    "for θ in 1:30:180\n",
    "    for φ in 1:30:360\n",
    "        ipix = ang2pixRing(res,deg2rad(θ),deg2rad(φ))\n",
    "        input_pointsource[:,ipix] .= 1\n",
    "    end\n",
    "end "
   ]
  },
  {
   "cell_type": "code",
   "execution_count": 6,
   "id": "19b38ede-624b-499e-9649-411757b01100",
   "metadata": {},
   "outputs": [
    {
     "data": {
      "text/plain": [
       "3×4656 Matrix{ComplexF64}:\n",
       " 0.0186417+0.0im  0.0018568+0.0im  …  4.79206e-21+2.78406e-21im\n",
       "       0.0+0.0im        0.0+0.0im     6.32747e-21+1.18148e-20im\n",
       "       0.0+0.0im        0.0+0.0im     1.99808e-20-7.21698e-21im"
      ]
     },
     "execution_count": 6,
     "metadata": {},
     "output_type": "execute_result"
    }
   ],
   "source": [
    "alm_point = hp.map2alm(input_pointsource)"
   ]
  },
  {
   "cell_type": "markdown",
   "id": "92622c93-9529-40d8-9e84-c926665c9586",
   "metadata": {},
   "source": [
    "## Part of convolution\n",
    "### <span style=\"color: red; \">Use of too large nside may result in full storage, so be careful in local environments.</span>"
   ]
  },
  {
   "cell_type": "code",
   "execution_count": 7,
   "id": "bb0546a3-d335-462e-b0f3-fd2d0f1a3af4",
   "metadata": {},
   "outputs": [
    {
     "data": {
      "text/plain": [
       "Process(`\u001b[4mmkdir\u001b[24m \u001b[4mpreconvolution\u001b[24m`, ProcessExited(0))"
      ]
     },
     "execution_count": 7,
     "metadata": {},
     "output_type": "execute_result"
    }
   ],
   "source": [
    "idx_max = 4*nside-1\n",
    "run(`mkdir preconvolution`)"
   ]
  },
  {
   "cell_type": "code",
   "execution_count": 8,
   "id": "023e389b-7728-4a23-885f-4c0d0c6bec5c",
   "metadata": {},
   "outputs": [],
   "source": [
    "for i in 1:idx_max\n",
    "    #@show i\n",
    "    dir_T = \"./preconvolution/T\"\n",
    "    dir_QU = \"./preconvolution/QU\"\n",
    "    FFTConvolution_T(alm = alm_point,blm =  gauss_blm, nside=nside, lmax = lmax,  idx=i, dir= dir_T)\n",
    "    FFTConvolution_QU(alm = alm_point,blm =  gauss_blm, nside=nside, lmax = lmax,  idx=i, dir= dir_QU)\n",
    "end"
   ]
  },
  {
   "cell_type": "markdown",
   "id": "f1b08f93-3bf3-4be1-ac25-26898e662b9a",
   "metadata": {
    "tags": []
   },
   "source": [
    "## Scanning part\n",
    "The function used here provides the convolution result for the pixels in the specified idx."
   ]
  },
  {
   "cell_type": "code",
   "execution_count": 9,
   "id": "5cdc20ee-a35c-402e-b26a-5f9fc67d9a90",
   "metadata": {},
   "outputs": [],
   "source": [
    "using Falcons\n",
    "using ProgressMeter"
   ]
  },
  {
   "cell_type": "code",
   "execution_count": 10,
   "id": "152e5a8f-7bd5-44f1-a919-7916c32ca34c",
   "metadata": {},
   "outputs": [
    {
     "data": {
      "text/plain": [
       "1-element Vector{Int64}:\n",
       " 0"
      ]
     },
     "execution_count": 10,
     "metadata": {},
     "output_type": "execute_result"
    }
   ],
   "source": [
    "day = 60 * 60 * 24\n",
    "year = day * 365\n",
    "\n",
    "ss = gen_ScanningStrategy()\n",
    "\n",
    "ss.nside = nside\n",
    "ss.duration = year #[sec]\n",
    "#ss.duration = 60*60*24*356 #[sec]\n",
    "ss.sampling_rate = 1 #[Hz]\n",
    "ss.alpha = 45 #[degree]\n",
    "ss.beta = 50 #[degree]\n",
    "ss.prec_rpm = period2rpm(192.348)\n",
    "ss.spin_rpm = 0.05 \n",
    "ss.hwp_rpm = 0.0 #[rpm]\n",
    "ss.start_point = \"pole\" #You can choose \"pole\" or \"equator\"\n",
    "ss.coord=\"E\" \n",
    "ss.FP_theta = [0] #[degree]\n",
    "ss.FP_phi = [0] #[degree]"
   ]
  },
  {
   "cell_type": "code",
   "execution_count": 11,
   "id": "e34b219a-192a-42c2-8a0f-90068f855735",
   "metadata": {},
   "outputs": [
    {
     "name": "stderr",
     "output_type": "stream",
     "text": [
      "\u001b[32mProgress: 100%|█████████████████████████████████████████| Time: 0:00:53\u001b[39m\n"
     ]
    },
    {
     "data": {
      "text/plain": [
       "(ComplexF64[0.37303860582881665 + 0.0im 0.0017828211579910905 + 0.004622651459990567im 0.0017828211579910905 - 0.004622651459990567im; 0.3731990542693417 + 0.0im 0.00395629519918202 + 0.0069573614877898576im 0.00395629519918202 - 0.0069573614877898576im; 0.37311897285008405 + 0.0im 0.0013854037940975508 + 0.007242042184473011im 0.0013854037940975508 - 0.007242042184473011im; 0.3732005447192566 + 0.0im 0.002599755374359802 + 0.008373094229227242im 0.002599755374359802 - 0.008373094229227242im], ComplexF64[-0.013046455582061935 - 0.005375964653585676im 0.0022611424678518465 - 0.00010830438054358056im; -0.007087204843821379 + 0.0007432938515868853im -0.005380359656852244 - 0.0001513519342653864im; -0.014048652150094171 + 0.0016722765296009676im 0.0013805913374687737 - 0.002737071614586693im; -0.010911842081723744 + 0.004676278080973756im 0.003917377543594014 + 0.001264680587256058im])"
      ]
     },
     "execution_count": 11,
     "metadata": {},
     "output_type": "execute_result"
    }
   ],
   "source": [
    "idx = 1\n",
    "dir_T = \"./preconvolution/T\"\n",
    "dir_QU = \"./preconvolution/QU\"\n",
    "d,h = get_psi_make_TOD_TQU_HWP(ss,; division = 1000, map_div=4, idx=idx, dir_T=dir_T, dir_QU=dir_QU)"
   ]
  },
  {
   "cell_type": "markdown",
   "id": "83ee0f76-6ed7-46f7-aff0-c942a496a166",
   "metadata": {},
   "source": [
    "## Making a map part\n",
    "The following functions are used to perform a map reconstruction for the pixels contained in the specified idx"
   ]
  },
  {
   "cell_type": "code",
   "execution_count": 12,
   "id": "54960dd0-8ee9-4d2e-b25f-e0b7d0ba740d",
   "metadata": {},
   "outputs": [
    {
     "data": {
      "text/plain": [
       "3×4 Matrix{ComplexF64}:\n",
       "  0.373283-0.0im         0.373283-0.0im        …   0.373283-0.0im\n",
       " 0.0132771-0.0132903im  0.0132771-0.0132903im     0.0132771-0.0132903im\n",
       " 0.0132771+0.0132903im  0.0132771+0.0132903im     0.0132771+0.0132903im"
      ]
     },
     "execution_count": 12,
     "metadata": {},
     "output_type": "execute_result"
    }
   ],
   "source": [
    "temp = solver_matrix_TQU(d, h)"
   ]
  },
  {
   "cell_type": "markdown",
   "id": "98cf2b7d-94fa-4fb9-b588-db9fab73bcd4",
   "metadata": {},
   "source": [
    "They are intended to launch a large number of programmes specified by idx as an LSF-like job system.\n",
    "\n",
    "As the clever person may have already noticed, this usage in the scan part is a waste of computational power, as it means that the trajectory calculation is performed for the idx max times.\\\n",
    "A program will now be added that completes all calculations for all idx with only one trajectory calculation."
   ]
  },
  {
   "cell_type": "code",
   "execution_count": null,
   "id": "4deba56d-225a-4752-bba9-30698225c1bf",
   "metadata": {},
   "outputs": [],
   "source": []
  }
 ],
 "metadata": {
  "kernelspec": {
   "display_name": "Julia 1.7.2",
   "language": "julia",
   "name": "julia-1.7"
  },
  "language_info": {
   "file_extension": ".jl",
   "mimetype": "application/julia",
   "name": "julia",
   "version": "1.7.2"
  }
 },
 "nbformat": 4,
 "nbformat_minor": 5
}
