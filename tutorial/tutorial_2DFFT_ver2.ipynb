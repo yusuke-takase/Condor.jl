{
 "cells": [
  {
   "cell_type": "code",
   "execution_count": 7,
   "id": "7fdaa18c",
   "metadata": {},
   "outputs": [
    {
     "data": {
      "text/plain": [
       "solver_matrix_full (generic function with 1 method)"
      ]
     },
     "execution_count": 7,
     "metadata": {},
     "output_type": "execute_result"
    }
   ],
   "source": [
    "using Condor\n",
    "#=using Plots\n",
    "using Healpix\n",
    "using PyCall\n",
    "using NPZ\n",
    "hp = pyimport(\"healpy\")\n",
    "np = pyimport(\"numpy\")\n",
    "using StaticArrays\n",
    "using PyPlot\n",
    "using WignerD\n",
    "using Falcons\n",
    "using Base.Threads\n",
    "using LinearAlgebra\n",
    "#using BenchmarkTools\n",
    "using HDF5\n",
    "using ProgressMeter\n",
    "using FFTW\n",
    "#include(\"./eliptical/test_mapmaker.jl\")\n",
    "=#"
   ]
  },
  {
   "cell_type": "code",
   "execution_count": 9,
   "id": "ce0a928b",
   "metadata": {},
   "outputs": [
    {
     "data": {
      "image/png": "[encoded data removed]",
      "text/plain": [
       "Figure(PyObject <Figure size 640x480 with 6 Axes>)"
      ]
     },
     "metadata": {},
     "output_type": "display_data"
    },
    {
     "data": {
      "text/plain": [
       "3×1176 Matrix{ComplexF64}:\n",
       " 0.26105+0.0im  0.451946+0.0im  …  -3.61285e-20-6.67856e-20im\n",
       "     0.0+0.0im       0.0+0.0im      1.30259e-19-9.03753e-20im\n",
       "     0.0+0.0im       0.0+0.0im      1.16268e-20+2.23854e-20im"
      ]
     },
     "execution_count": 9,
     "metadata": {},
     "output_type": "execute_result"
    }
   ],
   "source": [
    "nside = 16\n",
    "npix = nside2npix(nside)\n",
    "res = Resolution(nside)\n",
    "lmax = 3nside-1\n",
    "fwhm = deg2rad(5)\n",
    "xpeak,ypeak,zpeak = 0,0,1\n",
    "gauss_map = gauss_3d_xyz(npix, fwhm, xpeak, ypeak, zpeak)\n",
    "gauss_map_TQU = make_beam_TQU(gauss_map, npix, res)\n",
    "hp.mollview(gauss_map_TQU[1,:], rot = (0,90), title = \"T\", sub = (1,3,1))\n",
    "hp.mollview(gauss_map_TQU[2,:], rot = (0,90), title = \"Q\", sub = (1,3,2))\n",
    "hp.mollview(gauss_map_TQU[3,:], rot = (0,90), title = \"U\", sub = (1,3,3))\n",
    "gauss_blm = hp.map2alm(gauss_map_TQU)"
   ]
  },
  {
   "cell_type": "code",
   "execution_count": 10,
   "id": "6e3da87f",
   "metadata": {},
   "outputs": [
    {
     "data": {
      "image/png": "[encoded data removed]",
      "text/plain": [
       "Figure(PyObject <Figure size 1200x800 with 6 Axes>)"
      ]
     },
     "metadata": {},
     "output_type": "display_data"
    }
   ],
   "source": [
    "pointing_source = zeros(3, npix);\n",
    "for theta in 10:10:150\n",
    "    for phi in 1:30:360\n",
    "        pix = ang2pixRing(res, deg2rad(theta), deg2rad(phi))\n",
    "        pointing_source[1,pix] = 1\n",
    "        pointing_source[2,pix] = 1\n",
    "        pointing_source[3,pix] = 5\n",
    "    end\n",
    "end\n",
    "\n",
    "plt.figure(figsize=[12, 8])\n",
    "hp.mollview(pointing_source[1,:], sub = (1,3,1), title = \"T sample\", rot = (0,90))\n",
    "hp.mollview(pointing_source[2,:], sub = (1,3,2), title = \"Q sample\")\n",
    "hp.mollview(pointing_source[3,:], sub = (1,3,3), title = \"U sample\")\n",
    "\n",
    "pointing_source_alm = hp.map2alm(pointing_source);"
   ]
  },
  {
   "cell_type": "code",
   "execution_count": 12,
   "id": "f95467c1",
   "metadata": {},
   "outputs": [],
   "source": [
    "unique_θ = unique_theta(npix, res); #Calculate the value of θ by taking over the healpix rule"
   ]
  },
  {
   "cell_type": "code",
   "execution_count": 17,
   "id": "8cade012",
   "metadata": {},
   "outputs": [
    {
     "name": "stdout",
     "output_type": "stream",
     "text": [
      "l = 47\n",
      "l = 46\n",
      "l = 45\n",
      "l = 44\n",
      "l = 43\n",
      "l = 42\n",
      "l = 41\n",
      "l = 40\n",
      "l = 39\n",
      "l = 38\n",
      "l = 37\n",
      "l = 36\n",
      "l = 35\n",
      "l = 34\n",
      "l = 33\n",
      "l = 32\n",
      "l = 31\n",
      "l = 30\n",
      "l = 29\n",
      "l = 28\n",
      "l = 27\n",
      "l = 26\n",
      "l = 25\n",
      "l = 24\n",
      "l = 23\n",
      "l = 22\n",
      "l = 21\n",
      "l = 20\n",
      "l = 19\n",
      "l = 18\n",
      "l = 17\n",
      "l = 16\n",
      "l = 15\n",
      "l = 14\n",
      "l = 13\n",
      "l = 12\n",
      "l = 11\n",
      "l = 10\n",
      "l = 9\n",
      "l = 8\n",
      "l = 7\n",
      "l = 6\n",
      "l = 5\n",
      "l = 4\n",
      "l = 3\n",
      "l = 2\n",
      "l = 1\n",
      "  0.022870 seconds (2.00 k allocations: 3.433 MiB)\n"
     ]
    }
   ],
   "source": [
    "idx=1\n",
    "dir=\"./test_idx==$idx\"\n",
    "FFTConv_demo(pointing_source_alm, gauss_blm, unique_θ, lmax, nside, idx, dir) # Output the convolution result in φψ space for the idxth θ."
   ]
  },
  {
   "cell_type": "code",
   "execution_count": 19,
   "id": "f078dd40",
   "metadata": {},
   "outputs": [
    {
     "data": {
      "text/plain": [
       "1-element Vector{Int64}:\n",
       " 0"
      ]
     },
     "execution_count": 19,
     "metadata": {},
     "output_type": "execute_result"
    }
   ],
   "source": [
    "# Enter the parameters of the orbit calculation\n",
    "\n",
    "ss = gen_ScanningStrategy()\n",
    "\n",
    "day = 60 * 60 * 24\n",
    "year = day * 365\n",
    "\n",
    "ss.nside = nside\n",
    "ss.duration = year #[sec]\n",
    "#ss.duration = 180day #[sec]\n",
    "ss.sampling_rate = 1 #[Hz]\n",
    "ss.alpha = 45 #[degree]\n",
    "ss.beta = 50 #[degree]\n",
    "ss.prec_rpm = period2rpm(192.348)\n",
    "ss.spin_rpm = 0.05 #[rpm]\n",
    "ss.hwp_rpm = 0.0 #[rpm]\n",
    "ss.start_point = \"pole\" #You can choose \"pole\" or \"equator\"\n",
    "\n",
    "ss.FP_theta = [0] #[target_det.theta[1]]\n",
    "ss.FP_phi = [0]"
   ]
  },
  {
   "cell_type": "code",
   "execution_count": 20,
   "id": "8793bb10",
   "metadata": {},
   "outputs": [
    {
     "name": "stderr",
     "output_type": "stream",
     "text": [
      "\u001b[32mProgress: 100%|█████████████████████████████████████████| Time: 0:00:56\u001b[39m\n"
     ]
    },
    {
     "data": {
      "text/plain": [
       "(ComplexF64[-0.03755927789413139 - 0.03252440390937723im -0.03755927789413139 + 0.03252440390937723im; -0.03756805582001053 - 0.03245635639990377im -0.03756805582001053 + 0.03245635639990377im; -0.037555167247421736 - 0.032517269861082464im -0.037555167247421736 + 0.032517269861082464im; -0.03760310801421764 - 0.032467763773791736im -0.03760310801421764 + 0.032467763773791736im], ComplexF64[-0.07150569283699588 + 0.007481443852588932im 0.012979044177873487 - 0.0022145086605780246im; -0.07096196930694391 + 0.007518437350923599im 0.01414297607592378 - 0.003005268831131676im; -0.07325379405880841 + 0.006694474311815299im 0.01307336457807571 - 0.0023701979777718107im; -0.07263474539701376 + 0.0072769127483115325im 0.014320779478993885 - 0.0024904956390291817im])"
      ]
     },
     "execution_count": 20,
     "metadata": {},
     "output_type": "execute_result"
    }
   ],
   "source": [
    "d_var , h= get_psi_make_TOD(ss, division = 1600, idx =idx, map_div=4, dir=dir) #Get the accumulated observations for a pixel from the trajectry information."
   ]
  },
  {
   "cell_type": "code",
   "execution_count": 22,
   "id": "c3a17d09",
   "metadata": {},
   "outputs": [
    {
     "name": "stdout",
     "output_type": "stream",
     "text": [
      "h_matrix = ComplexF64[0.0032447610444683718 - 0.0005536271651445061im 0.25 + 0.0im; 0.25 + 0.0im 0.0032447610444683718 + 0.0005536271651445061im]\n",
      "inv(h_matrix) = ComplexF64[-0.05192517844154749 - 0.008859570534238387im 4.000693558780614 + 0.0im; 4.000693558780614 + 0.0im -0.05192517844154749 + 0.008859570534238387im]\n",
      "h_matrix = ComplexF64[0.003535744018980945 - 0.000751317207782919im 0.25 + 0.0im; 0.25 + 0.0im 0.003535744018980945 + 0.000751317207782919im]\n",
      "inv(h_matrix) = ComplexF64[-0.05658373343946017 - 0.012023588920874677im 4.000836396505343 + 0.0im; 4.000836396505343 + 0.0im -0.05658373343946017 + 0.012023588920874677im]\n",
      "h_matrix = ComplexF64[0.0032683411445189273 - 0.0005925494944429527im 0.25 + 0.0im; 0.25 + 0.0im 0.0032683411445189273 + 0.0005925494944429527im]\n",
      "inv(h_matrix) = ComplexF64[-0.0523026913430094 - 0.00948246585742131im 4.000706247473741 + 0.0im; 4.000706247473741 + 0.0im -0.0523026913430094 + 0.00948246585742131im]\n",
      "h_matrix = ComplexF64[0.0035801948697484712 - 0.0006226239097572954im 0.25 + 0.0im; 0.25 + 0.0im 0.0035801948697484712 + 0.0006226239097572954im]\n",
      "inv(h_matrix) = ComplexF64[-0.057295223668710045 - 0.009964087841268046im 4.000845327780675 + 0.0im; 4.000845327780675 + 0.0im -0.057295223668710045 + 0.009964087841268046im]\n"
     ]
    },
    {
     "data": {
      "text/plain": [
       "2×4 Matrix{ComplexF64}:\n",
       " -0.0743005+0.0660709im  -0.0742841+0.0660704im  …  -0.0743066+0.0660667im\n",
       " -0.0743005-0.0660709im  -0.0742841-0.0660704im     -0.0743066-0.0660667im"
      ]
     },
     "execution_count": 22,
     "metadata": {},
     "output_type": "execute_result"
    }
   ],
   "source": [
    "conved = solver_matrix(d_var,h) #Matrix calculation is performed and restored to map"
   ]
  },
  {
   "cell_type": "code",
   "execution_count": null,
   "id": "2f52494b",
   "metadata": {},
   "outputs": [],
   "source": []
  }
 ],
 "metadata": {
  "kernelspec": {
   "display_name": "Julia 1.7.2",
   "language": "julia",
   "name": "julia-1.7"
  },
  "language_info": {
   "file_extension": ".jl",
   "mimetype": "application/julia",
   "name": "julia",
   "version": "1.7.2"
  }
 },
 "nbformat": 4,
 "nbformat_minor": 5
}
